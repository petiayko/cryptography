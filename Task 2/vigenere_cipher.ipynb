{
 "cells": [
  {
   "cell_type": "code",
   "execution_count": 1,
   "id": "c3f2bc39",
   "metadata": {},
   "outputs": [],
   "source": [
    "from pprint import pprint"
   ]
  },
  {
   "cell_type": "markdown",
   "id": "c6a6ce22",
   "metadata": {},
   "source": [
    "# Ввод констант: рабочий алфавит, шифртекст, частоты букв английского языка"
   ]
  },
  {
   "cell_type": "code",
   "execution_count": 2,
   "id": "c0ad4c02",
   "metadata": {},
   "outputs": [],
   "source": [
    "ALPHABET = 'ABCDEFGHIJKLMNOPQRSTUVWXYZ'\n",
    "CIPHER_TEXT = 'VYCPYTKECRBDJVPXLOVPNTHTOFLDTZRYYQXHKTQJUGVZRJMWQEAXIVGIUWXFGVYRAZGKRTKWPRLPEDJRZTMWUDYEISFKMXMGPLKTKWEVOJBJCCCCMSPTPNIHGUSHBBIRQXFDNVKPMVGDYIBQCCDJGQVZMCTBFTMCOSTKCSUOEBRDTZGKRTKHJVDDKAWCYJLSFDCPGGVYYIXOEYJTMHGICCVFAGRHMCQECDMVGIJTMHGIYCWPCTIPZOKEKTTBKEEIASEZNWXFKJCHLSPKGPEZARQITBFRPSLIDJRXMIVZMCVWRYCGPWVYYGNZGXMKXFPZLVPVKTFAXHVVPVHSUKMLAWEYYHLIEYGIAOUKFTPSCBLTLGGJMUTZNJSQLHKKSIBCPTGEASTJCPVVNVRIXFKJCCVWRYCGXRYZRWMVGWSCVHKFLIASEZNWXFUGPXFOTPUTTYPVQHVCOVQUKCOKFTYOEKRWTHKWRWXQTPNITBCCWHMQCEBXLQQMCGUMOVYCLCHWPTJIGEANTBCCWHBGDISIXTQIATZIGJQXGUQIMIASTNGHXHJVNATWPKCMMCHKUDVWRYCGMSZKAWTFCTRTKGVYCCMVGBCNVOPSCDUHCZLTWPAJMAOWPXYHBAWCRPGSQLQTJICKGDGGKEATPSMEMLTOPUKPKSTVJPMWXVJNIFKDCIAWUTYCUSWJCSMCTRNXWZAUGHVOTUKPGMHRJHXYGPQXGOPRSIHACKCSLMUKCBMVGJYBXHAGCDYHTRLHYCTDYIBCPLQTWWPRDUBBGTGEASTJGHNGGUGCEWPVYGVCPXPJXBVZYAZSPVPPMCTJYIRDGFDELSWUMGTBFFKCNADVPVXBGIYIHFVYGHZSPVPPMCTZQCHHCTPNIHQXPPIVKTYAEMUVAJKSRJCJWCTRLSHAPLKQXFIVLTKOVFPUHFVYCHTAGICPLCPKFPMHJVYUYWPVAXIVGIGHGCVJCRNF'\n",
    "FREQUENCY = [8.167, 1.492, 2.782, 4.253, 12.702, 2.228,\n",
    "             2.015, 6.094, 6.966, 0.153, 0.772, 4.025,\n",
    "             2.406, 6.749, 7.507, 1.929, 0.095, 5.987,\n",
    "             6.327, 9.056, 2.758, 0.978, 2.360, 0.150,\n",
    "             1.974, 0.074]"
   ]
  },
  {
   "cell_type": "markdown",
   "id": "e23fcc80",
   "metadata": {},
   "source": [
    "# Функция разбиения строки s на столбцы высоты t"
   ]
  },
  {
   "cell_type": "code",
   "execution_count": 3,
   "id": "fd7623d6",
   "metadata": {},
   "outputs": [],
   "source": [
    "def get_layers(s, t):\n",
    "    return [s[i::t] for i in range(t)]"
   ]
  },
  {
   "cell_type": "markdown",
   "id": "ce23a120",
   "metadata": {},
   "source": [
    "# Функция вычисления индекса совпадений"
   ]
  },
  {
   "cell_type": "code",
   "execution_count": 4,
   "id": "324463e4",
   "metadata": {},
   "outputs": [],
   "source": [
    "def get_index(s, alph=ALPHABET):\n",
    "    if len(s) < 2:\n",
    "        return 0\n",
    "\n",
    "    ind = 0\n",
    "    for ch in alph:\n",
    "        ch_count = s.count(ch)\n",
    "        ind += ch_count * (ch_count - 1) / (len(s) * (len(s) - 1))\n",
    "    return ind"
   ]
  },
  {
   "cell_type": "code",
   "execution_count": 5,
   "id": "613df8b0",
   "metadata": {},
   "outputs": [],
   "source": [
    "def get_mutual_index(s1, s2, alph=ALPHABET):\n",
    "    ind = 0\n",
    "    for ch in alph:\n",
    "        ind += s1.count(ch) * s2.count(ch) / (len(s1) * len(s2))\n",
    "    return ind"
   ]
  },
  {
   "cell_type": "markdown",
   "id": "01b760fd",
   "metadata": {},
   "source": [
    "# Поиск длины ключа"
   ]
  },
  {
   "cell_type": "code",
   "execution_count": 6,
   "id": "2863cfaa",
   "metadata": {},
   "outputs": [
    {
     "name": "stdout",
     "output_type": "stream",
     "text": [
      "Длина ключа = 6\n"
     ]
    }
   ],
   "source": [
    "data = dict()\n",
    "max_ind = -1\n",
    "key_length = -1\n",
    "for t in range(1, len(CIPHER_TEXT)):\n",
    "    data[t] = min([get_index(layer) for layer in get_layers(CIPHER_TEXT, t)])\n",
    "    if data[t] > max_ind:\n",
    "        max_ind = data[t]\n",
    "        key_length = t\n",
    "\n",
    "print(f'Длина ключа = {key_length}')"
   ]
  },
  {
   "cell_type": "markdown",
   "id": "d3558fd5",
   "metadata": {},
   "source": [
    "# Поиск наиболее вероятного ключа"
   ]
  },
  {
   "cell_type": "code",
   "execution_count": 7,
   "id": "c8685954",
   "metadata": {},
   "outputs": [
    {
     "name": "stdout",
     "output_type": "stream",
     "text": [
      "Полученный ключ: CRYPTO\n"
     ]
    }
   ],
   "source": [
    "key = str()\n",
    "\n",
    "for i in range(key_length):\n",
    "    count = [0] * len(ALPHABET)\n",
    "    for j in range(i, len(CIPHER_TEXT), key_length):\n",
    "        count[ord(CIPHER_TEXT[j]) - ord('A')] += 1\n",
    "\n",
    "    max_dp = -1\n",
    "    best_i = 0\n",
    "\n",
    "    for j in range(len(ALPHABET)):\n",
    "        cur_dp = sum([FREQUENCY[k] * count[(k + j) % len(ALPHABET)] for k in range(len(ALPHABET))])\n",
    "        if cur_dp > max_dp:\n",
    "            max_dp = cur_dp\n",
    "            best_i = j\n",
    "    key += chr(best_i + ord('A'))\n",
    "\n",
    "key = key.upper()\n",
    "print(f'Полученный ключ: {key}')"
   ]
  },
  {
   "cell_type": "markdown",
   "id": "27b1306e",
   "metadata": {},
   "source": [
    "# Расшифрование"
   ]
  },
  {
   "cell_type": "code",
   "execution_count": 8,
   "id": "9c5bcf50",
   "metadata": {},
   "outputs": [
    {
     "name": "stdout",
     "output_type": "stream",
     "text": [
      "Открытый текст: THEAFFINECIPHERISATYPEOFMONOALPHABETICSUBSTITUTIONCIPHERWHEREEACHLETTERINANALPHABETISMAPPEDTOITSNUMERICEQUIVALENTENCRYPTEDUSINGASIMPLEMATHEMATICALFUNCTIONANDCONVERTEDBACKTOALETTERTHEFORMULAUSEDMEANSTHATEACHLETTERENCRYPTSTOONEOTHERLETTERANDBACKAGAINMEANINGTHECIPHERISESSENTIALLYASTANDARDSUBSTITUTIONCIPHERWITHARULEGOVERNINGWHICHLETTERGOESTOWHICHASSUCHITHASTHEWEAKNESSESOFALLSUBSTITUTIONCIPHERSEACHLETTERISENCIPHEREDWITHTHEFUNCTIONTHECIPHERSPRIMARYWEAKNESSCOMESFROMTHEFACTTHATIFTHECRYPTANALYSTCANDISCOVERBYMEANSOFFREQUENCYANALYSISBRUTEFORCEGUESSINGOROTHERWISETHEPLAINTEXTOFTWOCIPHERTEXTCHARACTERSTHENTHEKEYCANBEOBTAINEDBYSOLVINGASIMULTANEOUSEQUATIONSINCEWEKNOWAANDMARERELATIVELYPRIMETHISCANBEUSEDTORAPIDLYDISCARDMANYFALSEKEYSINANAUTOMATEDSYSTEMTHESAMETYPEOFTRANSFORMATIONUSEDINAFFINECIPHERSISUSEDINLINEARCONGRUENTIALGENERATORSATYPEOFPSEUDORANDOMNUMBERGENERATORTHISGENERATORISNOTACRYPTOGRAPHICALLYSECUREPSEUDORANDOMNUMBERGENERATORFORTHESAMEREASONTHATTHEAFFINECIPHERISNOTSECUR\n"
     ]
    }
   ],
   "source": [
    "plaintext = str()\n",
    "key_index = 0\n",
    "for char in CIPHER_TEXT:\n",
    "    shift = ord(key[key_index % len(key)]) - ord('A')\n",
    "    decrypted_char = chr((ord(char) - ord('A') - shift) % 26 + ord('A'))\n",
    "    plaintext += decrypted_char\n",
    "    key_index += 1\n",
    "\n",
    "print(f'Открытый текст: {plaintext}')"
   ]
  },
  {
   "cell_type": "code",
   "execution_count": null,
   "id": "cccc95f2",
   "metadata": {},
   "outputs": [],
   "source": []
  },
  {
   "cell_type": "code",
   "execution_count": null,
   "id": "871eed2f",
   "metadata": {},
   "outputs": [],
   "source": []
  },
  {
   "cell_type": "code",
   "execution_count": null,
   "id": "0661c06a",
   "metadata": {},
   "outputs": [],
   "source": []
  },
  {
   "cell_type": "code",
   "execution_count": null,
   "id": "e05e2005",
   "metadata": {},
   "outputs": [],
   "source": []
  },
  {
   "cell_type": "code",
   "execution_count": null,
   "id": "9562511f",
   "metadata": {},
   "outputs": [],
   "source": []
  },
  {
   "cell_type": "code",
   "execution_count": null,
   "id": "d0912ae8",
   "metadata": {},
   "outputs": [],
   "source": []
  },
  {
   "cell_type": "code",
   "execution_count": null,
   "id": "b7cb7b6a",
   "metadata": {},
   "outputs": [],
   "source": []
  },
  {
   "cell_type": "code",
   "execution_count": null,
   "id": "34a92ade",
   "metadata": {},
   "outputs": [],
   "source": []
  },
  {
   "cell_type": "code",
   "execution_count": null,
   "id": "91dd48a7",
   "metadata": {},
   "outputs": [],
   "source": []
  },
  {
   "cell_type": "code",
   "execution_count": null,
   "id": "8728ec8c",
   "metadata": {},
   "outputs": [],
   "source": []
  },
  {
   "cell_type": "code",
   "execution_count": null,
   "id": "62f42944",
   "metadata": {},
   "outputs": [],
   "source": []
  },
  {
   "cell_type": "code",
   "execution_count": null,
   "id": "db6ca970",
   "metadata": {},
   "outputs": [],
   "source": []
  },
  {
   "cell_type": "code",
   "execution_count": null,
   "id": "86d8d9a6",
   "metadata": {},
   "outputs": [],
   "source": []
  },
  {
   "cell_type": "code",
   "execution_count": null,
   "id": "732de55a",
   "metadata": {},
   "outputs": [],
   "source": []
  },
  {
   "cell_type": "code",
   "execution_count": null,
   "id": "a4805017",
   "metadata": {},
   "outputs": [],
   "source": []
  },
  {
   "cell_type": "code",
   "execution_count": null,
   "id": "b3604b75",
   "metadata": {},
   "outputs": [],
   "source": []
  },
  {
   "cell_type": "code",
   "execution_count": null,
   "id": "ef2f01c0",
   "metadata": {},
   "outputs": [],
   "source": []
  },
  {
   "cell_type": "markdown",
   "id": "d994c58b",
   "metadata": {},
   "source": [
    "# Далее предназначен код не для просмотра, а для поиска альтернативного решения в будущем"
   ]
  },
  {
   "cell_type": "code",
   "execution_count": 108,
   "id": "f6bf0cc5",
   "metadata": {},
   "outputs": [],
   "source": [
    "def shift(s, k, alph=ALPHABET):\n",
    "    s_shift = str()\n",
    "    for i in range(len(s)):\n",
    "        s_shift += alph[(alph.index(s[i]) + k) % len(alph)]\n",
    "    return s_shift"
   ]
  },
  {
   "cell_type": "code",
   "execution_count": 43,
   "id": "05885855",
   "metadata": {},
   "outputs": [
    {
     "name": "stdout",
     "output_type": "stream",
     "text": [
      "{0: (None, None),\n",
      " 1: (11, 0.06637707666514249),\n",
      " 2: (4, 0.07235939643347052),\n",
      " 3: (13, 0.06847279378143574),\n",
      " 4: (9, 0.0639765279682975),\n",
      " 5: (14, 0.06942539247065996)}\n",
      "Ключ - некоторая перестановка букв со следующими номерами 15 22 13 17 12\n"
     ]
    }
   ],
   "source": [
    "shifts_statistic = {0: (None, None)}\n",
    "for layer_i in range(1, len(layers)):\n",
    "    shifts_statistic[layer_i] = list()\n",
    "    for k in range(len(ALPHABET)):\n",
    "        shifts_statistic[layer_i].append((k, get_mutual_index(layers[0], shift(layers[layer_i], k))))\n",
    "    shifts_statistic[layer_i] = max(shifts_statistic[layer_i], key=lambda x: x[1])\n",
    "\n",
    "pprint(shifts_statistic)\n",
    "key_symbols = [len(ALPHABET) - p[0] for p in shifts_statistic.values() if p[0] is not None]"
   ]
  }
 ],
 "metadata": {
  "kernelspec": {
   "display_name": "Python 3",
   "language": "python",
   "name": "python3"
  },
  "language_info": {
   "codemirror_mode": {
    "name": "ipython",
    "version": 3
   },
   "file_extension": ".py",
   "mimetype": "text/x-python",
   "name": "python",
   "nbconvert_exporter": "python",
   "pygments_lexer": "ipython3",
   "version": "3.8.8"
  }
 },
 "nbformat": 4,
 "nbformat_minor": 5
}
